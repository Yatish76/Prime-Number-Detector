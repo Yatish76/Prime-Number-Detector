{
 "cells": [
  {
   "cell_type": "code",
   "execution_count": 3,
   "metadata": {},
   "outputs": [],
   "source": [
    "#Python code for TRACEFILE.txt generation for FULL-ADDER\n",
    "#\n",
    "#open/create TRACEFILE.txt in write mode\n",
    "f = open(\"TRACEFILE.txt\",\"w\")\n",
    "#number of inputs\n",
    "input_len = 4\n",
    "\n",
    "#number of test vectors\n",
    "test_len = 2**input_len\n",
    "#loop from 0 to (test_len-1)\n",
    "for input_vec in range(test_len):\n",
    "    \n",
    "#convert input to binary(8bit) format\n",
    "    input_str = \"{:04b}\".format(int(input_vec))\n",
    "#extracting the input bits\n",
    "    output=0\n",
    "    if input_vec>1 :\n",
    "        for i in range(2,input_vec):\n",
    "            if (input_vec%i) == 0 :\n",
    "                output = 0\n",
    "                break\n",
    "        else :\n",
    "            output = 1\n",
    "    else :\n",
    "        output = 0\n",
    "                \n",
    "         \n",
    "\n",
    "          #convert output to binary(1bit) format\n",
    "    output_str = \"{:01b}\".format(int(output))\n",
    "    \n",
    "#write input and output test vector with 2bit mask in TRACEFILE.txt\n",
    "    f.write(input_str + \" \" + output_str +\" 1\\n\")\n",
    "#close file\n",
    "f.close()"
   ]
  },
  {
   "cell_type": "code",
   "execution_count": null,
   "metadata": {},
   "outputs": [],
   "source": []
  }
 ],
 "metadata": {
  "kernelspec": {
   "display_name": "Python 3",
   "language": "python",
   "name": "python3"
  },
  "language_info": {
   "codemirror_mode": {
    "name": "ipython",
    "version": 3
   },
   "file_extension": ".py",
   "mimetype": "text/x-python",
   "name": "python",
   "nbconvert_exporter": "python",
   "pygments_lexer": "ipython3",
   "version": "3.8.3"
  }
 },
 "nbformat": 4,
 "nbformat_minor": 4
}
